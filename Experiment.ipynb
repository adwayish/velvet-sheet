{
 "metadata": {
  "name": "Experiment"
 },
 "nbformat": 3,
 "nbformat_minor": 0,
 "worksheets": [
  {
   "cells": [
    {
     "cell_type": "code",
     "collapsed": false,
     "input": [
      "import pandas as pd\n",
      "from collections import namedtuple"
     ],
     "language": "python",
     "metadata": {},
     "outputs": []
    },
    {
     "cell_type": "markdown",
     "metadata": {},
     "source": [
      "#Velvet Experiment Sheet"
     ]
    },
    {
     "cell_type": "code",
     "collapsed": false,
     "input": [
      "###\n",
      "# set up experiment parameters\n",
      "# kmers : kmer length\n",
      "# cvCut : coverage threshold per contig \n",
      "#\n",
      "# refer to vlevlet manual for more details. \n",
      "###\n",
      "\n",
      "class Experiment: pass\n",
      "ex = Experiment()\n",
      "ex.kmers = [1,2,3,4] \n",
      "ex.cvCut  = [8,10]   \n",
      "ex.expCov = map(lambda(x): x*2,ex.cvCut)\n",
      "ex.output = \"output\"\n",
      "ex.seq = \"EClen60cov20.fna\"\n",
      "\n",
      "def mkname(k,cvCut): return '_'.join([ex.output,str(k),str(cvCut)]) \n",
      "\n",
      "# build the iteration list\n",
      "Iteration = namedtuple('Iteration','kmer cvCut dirname')\n",
      "ex.iterations =[Iteration(kmer,cvCut,mkname(kmer,cvCut)) for kmer in ex.kmers for cvCut in ex.cvCut]\n"
     ],
     "language": "python",
     "metadata": {},
     "outputs": []
    },
    {
     "cell_type": "code",
     "collapsed": false,
     "input": [
      "# clean\n",
      "for f in ex.dirs:\n",
      "    !rm -rf {f}"
     ],
     "language": "python",
     "metadata": {},
     "outputs": []
    },
    {
     "cell_type": "code",
     "collapsed": true,
     "input": [
      "\"\"\"\n",
      "Run the main rotuin to generate data files\n",
      "this include runing velvet binaries (vleveth and vlevetg) \n",
      "for conf[k] x conf[cvCut] times.\n",
      "\"\"\"\n",
      "for k in ex.kmers: \n",
      "    !velveth {ex.output} {str(k)} -short {ex.seq};\n",
      "    for cvCut in ex.cvCut:\n",
      "        f = mkname(k,cvCut)\n",
      "        !cp -R {ex.output} {f}\n",
      "        !velvetg {f} -cov_cutoff {str(cvCut)};\n",
      "    !rm -rf {ex.output}"
     ],
     "language": "python",
     "metadata": {},
     "outputs": []
    },
    {
     "cell_type": "code",
     "collapsed": true,
     "input": [
      "\"\"\"\n",
      "Collect data from files into dataframe has the following columns\n",
      "k cvCut n50 totalLgth contigs_ls_2 mean max min\n",
      "\"\"\"\n",
      "def collect(f,kmer):\n",
      "    \"\"\"\n",
      "    recieve a file path, returns a row of the required information.\n",
      "    \"\"\"\n",
      "    stats = pd.read_table('/'.join([f,\"stats.txt\"]))\n",
      "    stats['lgth'] = (stats['lgth'] + (kmer-1))\n",
      "    sumLgth = stats['lgth'].sum()\n",
      "    minLgth = stats['lgth'].min()\n",
      "    maxLgth = stats['lgth'].max()\n",
      "    meanLgth= stats['lgth'].mean()\n",
      "    medianLgth=stats['lgth'].median()\n",
      "    [sumLgth,minLgth,maxLgth,meanLgth,medianLgth] "
     ],
     "language": "python",
     "metadata": {},
     "outputs": []
    }
   ],
   "metadata": {}
  }
 ]
}
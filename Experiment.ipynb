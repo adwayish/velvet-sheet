{
 "metadata": {
  "name": "Experiment"
 },
 "nbformat": 3,
 "nbformat_minor": 0,
 "worksheets": [
  {
   "cells": [
    {
     "cell_type": "code",
     "collapsed": false,
     "input": [
      "import pandas as pd"
     ],
     "language": "python",
     "metadata": {},
     "outputs": [],
     "prompt_number": 2
    },
    {
     "cell_type": "markdown",
     "metadata": {},
     "source": [
      "#Velvet Experiment Sheet"
     ]
    },
    {
     "cell_type": "code",
     "collapsed": false,
     "input": [
      "\"\"\"\n",
      "set up experiment parameters\n",
      "k : kmer length\n",
      "cvCut : kmer coverage\n",
      "\n",
      "return to vlevlet manual for more about them. \n",
      "\"\"\"\n",
      "\n",
      "conf = {}\n",
      "conf['k'] = [15,21,31]\n",
      "conf['cvCut'] = [8,10]\n",
      "conf['expCov']= map(lambda(x): x*2,conf['cvCut'])\n",
      "conf['output']= \"output\"\n",
      "conf['seq'] = \"EClen60cov20.fna\"\n",
      "\n",
      "#### Utils\n",
      "def mkname(k,cvCut): return '_'.join([conf['output'],str(k),str(cvCut)])\n",
      "conf['ls']= [mkname(k,cv) for k in conf['k'] for cv in conf['cvCut']]"
     ],
     "language": "python",
     "metadata": {},
     "outputs": [],
     "prompt_number": 3
    },
    {
     "cell_type": "code",
     "collapsed": false,
     "input": [
      "# clean\n",
      "for f in conf['ls']:\n",
      "    !rm -rf {f}"
     ],
     "language": "python",
     "metadata": {},
     "outputs": [],
     "prompt_number": 5
    },
    {
     "cell_type": "code",
     "collapsed": true,
     "input": [
      "\"\"\"\n",
      "Run the main rotuin to generate data files\n",
      "this include runing velvet binaries (vleveth and vlevetg) \n",
      "for conf[k] x conf[cvCut] times.\n",
      "\"\"\"\n",
      "for k in conf['k']: \n",
      "    !echo {conf['output']} {str(k)} -short {conf['seq']}\n",
      "    !velveth {conf['output']} {str(k)} -short {conf['seq']};\n",
      "    for cvCut in conf['cvCut']:\n",
      "        f = mkname(k,cvCut)\n",
      "        !cp -R {conf['output']} {f}\n",
      "        !velvetg {f} -cov_cutoff {str(cvCut)};\n",
      "    !rm -rf {conf['output']}"
     ],
     "language": "python",
     "metadata": {},
     "outputs": [
      {
       "output_type": "stream",
       "stream": "stdout",
       "text": [
        "output 15 -short EClen60cov20.fna\r\n"
       ]
      },
      {
       "output_type": "stream",
       "stream": "stdout",
       "text": [
        "[0.000000] Reading FastA file EClen60cov20.fna;\r\n"
       ]
      },
      {
       "output_type": "stream",
       "stream": "stdout",
       "text": [
        "[0.105983] 66667 sequences found\r\n",
        "[0.105992] Done\r\n"
       ]
      },
      {
       "output_type": "stream",
       "stream": "stdout",
       "text": [
        "[0.260683] Reading read set file output/Sequences;\r\n",
        "[0.285097] 66667 sequences found\r\n"
       ]
      },
      {
       "output_type": "stream",
       "stream": "stdout",
       "text": [
        "[0.355804] Done\r\n",
        "[0.355819] 66667 sequences in total.\r\n",
        "[0.356114] Writing into roadmap file output/Roadmaps...\r\n"
       ]
      },
      {
       "output_type": "stream",
       "stream": "stdout",
       "text": [
        "[0.421157] Inputting sequences...\r\n",
        "[0.421450] Inputting sequence 0 / 66667\r\n"
       ]
      },
      {
       "output_type": "stream",
       "stream": "stdout",
       "text": [
        "[0.746852]  === Sequences loaded in 0.325722 s\r\n",
        "[0.747134] Done inputting sequences\r\n",
        "[0.747140] Destroying splay table\r\n",
        "[0.754537] Splay table destroyed\r\n"
       ]
      },
      {
       "output_type": "stream",
       "stream": "stdout",
       "text": [
        "[0.000000] Reading roadmap file output_15_8/Roadmaps\r\n"
       ]
      },
      {
       "output_type": "stream",
       "stream": "stdout",
       "text": [
        "[0.217671] 66667 roadmaps read\r\n",
        "[0.217749] Creating insertion markers\r\n",
        "[0.223838] Ordering insertion markers\r\n"
       ]
      },
      {
       "output_type": "stream",
       "stream": "stdout",
       "text": [
        "[0.229277] Counting preNodes\r\n",
        "[0.237260] 97390 preNodes counted, creating them now\r\n"
       ]
      },
      {
       "output_type": "stream",
       "stream": "stdout",
       "text": [
        "[0.537930] Adjusting marker info...\r\n",
        "[0.545207] Connecting preNodes\r\n"
       ]
      },
      {
       "output_type": "stream",
       "stream": "stdout",
       "text": [
        "[0.792834] Cleaning up memory\r\n",
        "[0.794069] Done creating preGraph\r\n",
        "[0.794074] Concatenation...\r\n",
        "[0.822258] Renumbering preNodes\r\n",
        "[0.822273] Initial preNode count 97390\r\n",
        "[0.823130] Destroyed 96860 preNodes\r\n",
        "[0.823134] Concatenation over!\r\n",
        "[0.823137] Clipping short tips off preGraph\r\n",
        "[0.823154] Concatenation...\r\n",
        "[0.823201] Renumbering preNodes\r\n",
        "[0.823203] Initial preNode count 530\r\n",
        "[0.823206] Destroyed 0 preNodes\r\n",
        "[0.823208] Concatenation over!\r\n",
        "[0.823210] 0 tips cut off\r\n",
        "[0.823211] 530 nodes left\r\n",
        "[0.823510] Writing into pregraph file output_15_8/PreGraph...\r\n"
       ]
      },
      {
       "output_type": "stream",
       "stream": "stdout",
       "text": [
        "[0.850265] Reading read set file output_15_8/Sequences;\r\n",
        "[0.869656] 66667 sequences found\r\n"
       ]
      },
      {
       "output_type": "stream",
       "stream": "stdout",
       "text": [
        "[0.938541] Done\r\n"
       ]
      },
      {
       "output_type": "stream",
       "stream": "stdout",
       "text": [
        "[1.009995] Reading pre-graph file output_15_8/PreGraph\r\n",
        "[1.010033] Graph has 530 nodes and 66667 sequences\r\n",
        "[1.025697] Scanning pre-graph file output_15_8/PreGraph for k-mers\r\n",
        "[1.035951] 199381 kmers found\r\n"
       ]
      },
      {
       "output_type": "stream",
       "stream": "stdout",
       "text": [
        "[1.060792] Sorting kmer occurence table ... \r\n"
       ]
      },
      {
       "output_type": "stream",
       "stream": "stdout",
       "text": [
        "[1.116313] Sorting done.\r\n",
        "[1.116326] Computing acceleration table... \r\n"
       ]
      },
      {
       "output_type": "stream",
       "stream": "stdout",
       "text": [
        "[1.151596] Computing offsets... \r\n",
        "[1.153154] Ghost Threading through reads 0 / 66667\r\n",
        "[1.153315]  === Ghost-Threaded in 0.000558 s\r\n",
        "[1.153363] Threading through reads 0 / 66667\r\n"
       ]
      },
      {
       "output_type": "stream",
       "stream": "stdout",
       "text": [
        "[1.574402]  === Threaded in 0.421078 s\r\n",
        "[1.587244] Correcting graph with cutoff 0.200000\r\n",
        "[1.587347] Determining eligible starting points\r\n",
        "[1.587753] Done listing starting nodes\r\n",
        "[1.587757] Initializing todo lists\r\n",
        "[1.587813] Done with initilization\r\n",
        "[1.587816] Activating arc lookup table\r\n",
        "[1.587854] Done activating arc lookup table\r\n",
        "[1.593143] Concatenation...\r\n",
        "[1.593164] Renumbering nodes\r\n",
        "[1.593167] Initial node count 530\r\n",
        "[1.593177] Removed 29 null nodes\r\n",
        "[1.593179] Concatenation over!\r\n",
        "[1.593181] Clipping short tips off graph, drastic\r\n",
        "[1.593189] Concatenation...\r\n",
        "[1.593201] Renumbering nodes\r\n",
        "[1.593203] Initial node count 501\r\n",
        "[1.593207] Removed 0 null nodes\r\n",
        "[1.593209] Concatenation over!\r\n",
        "[1.593211] 501 nodes left\r\n",
        "[1.593701] Writing into graph file output_15_8/Graph...\r\n"
       ]
      },
      {
       "output_type": "stream",
       "stream": "stdout",
       "text": [
        "[1.644848] Removing contigs with coverage < 8.000000...\r\n",
        "[1.644879] Concatenation...\r\n",
        "[1.644894] Renumbering nodes\r\n",
        "[1.644896] Initial node count 501\r\n",
        "[1.644901] Removed 0 null nodes\r\n",
        "[1.644903] Concatenation over!\r\n",
        "[1.644915] Concatenation...\r\n",
        "[1.644927] Renumbering nodes\r\n",
        "[1.644929] Initial node count 501\r\n",
        "[1.644933] Removed 0 null nodes\r\n",
        "[1.644935] Concatenation over!\r\n",
        "[1.644937] Clipping short tips off graph, drastic\r\n",
        "[1.644944] Concatenation...\r\n",
        "[1.644956] Renumbering nodes\r\n",
        "[1.644958] Initial node count 501\r\n",
        "[1.644962] Removed 0 null nodes\r\n",
        "[1.644964] Concatenation over!\r\n",
        "[1.644965] 501 nodes left\r\n",
        "[1.644967] WARNING: NO EXPECTED COVERAGE PROVIDED\r\n",
        "[1.644968] Velvet will be unable to resolve any repeats\r\n",
        "[1.644970] See manual for instructions on how to set the expected coverage parameter\r\n",
        "[1.644972] Concatenation...\r\n",
        "[1.644984] Renumbering nodes\r\n",
        "[1.644986] Initial node count 501\r\n",
        "[1.644990] Removed 0 null nodes\r\n",
        "[1.644992] Concatenation over!\r\n",
        "[1.644996] Removing reference contigs with coverage < 8.000000...\r\n",
        "[1.645016] Concatenation...\r\n",
        "[1.645028] Renumbering nodes\r\n",
        "[1.645029] Initial node count 501\r\n",
        "[1.645034] Removed 0 null nodes\r\n",
        "[1.645035] Concatenation over!\r\n",
        "[1.645417] Writing contigs into output_15_8/contigs.fa...\r\n"
       ]
      },
      {
       "output_type": "stream",
       "stream": "stdout",
       "text": [
        "[1.679565] Writing into stats file output_15_8/stats.txt...\r\n",
        "[1.680866] Writing into graph file output_15_8/LastGraph...\r\n"
       ]
      },
      {
       "output_type": "stream",
       "stream": "stdout",
       "text": [
        "Final graph has 501 nodes and n50 of 1205, max 5361, total 199194, using 0/66667 reads\r\n"
       ]
      },
      {
       "output_type": "stream",
       "stream": "stdout",
       "text": [
        "[0.000000] Reading roadmap file output_15_10/Roadmaps\r\n"
       ]
      },
      {
       "output_type": "stream",
       "stream": "stdout",
       "text": [
        "[0.129789] 66667 roadmaps read\r\n",
        "[0.129865] Creating insertion markers\r\n",
        "[0.136768] Ordering insertion markers\r\n",
        "[0.144989] Counting preNodes\r\n"
       ]
      },
      {
       "output_type": "stream",
       "stream": "stdout",
       "text": [
        "[0.152780] 97390 preNodes counted, creating them now\r\n"
       ]
      },
      {
       "output_type": "stream",
       "stream": "stdout",
       "text": [
        "[0.493840] Adjusting marker info...\r\n",
        "[0.501436] Connecting preNodes\r\n"
       ]
      },
      {
       "output_type": "stream",
       "stream": "stdout",
       "text": [
        "[0.800451] Cleaning up memory\r\n",
        "[0.801654] Done creating preGraph\r\n",
        "[0.801663] Concatenation...\r\n"
       ]
      },
      {
       "output_type": "stream",
       "stream": "stdout",
       "text": [
        "[0.834733] Renumbering preNodes\r\n",
        "[0.834749] Initial preNode count 97390\r\n",
        "[0.835661] Destroyed 96860 preNodes\r\n",
        "[0.835668] Concatenation over!\r\n",
        "[0.835671] Clipping short tips off preGraph\r\n",
        "[0.835682] Concatenation...\r\n",
        "[0.835735] Renumbering preNodes\r\n",
        "[0.835737] Initial preNode count 530\r\n",
        "[0.835740] Destroyed 0 preNodes\r\n",
        "[0.835742] Concatenation over!\r\n",
        "[0.835743] 0 tips cut off\r\n",
        "[0.835745] 530 nodes left\r\n",
        "[0.835844] Writing into pregraph file output_15_10/PreGraph...\r\n"
       ]
      },
      {
       "output_type": "stream",
       "stream": "stdout",
       "text": [
        "[0.866164] Reading read set file output_15_10/Sequences;\r\n",
        "[0.885970] 66667 sequences found\r\n"
       ]
      },
      {
       "output_type": "stream",
       "stream": "stdout",
       "text": [
        "[0.955279] Done\r\n"
       ]
      },
      {
       "output_type": "stream",
       "stream": "stdout",
       "text": [
        "[1.029780] Reading pre-graph file output_15_10/PreGraph\r\n",
        "[1.029840] Graph has 530 nodes and 66667 sequences\r\n",
        "[1.046578] Scanning pre-graph file output_15_10/PreGraph for k-mers\r\n",
        "[1.056931] 199381 kmers found\r\n"
       ]
      },
      {
       "output_type": "stream",
       "stream": "stdout",
       "text": [
        "[1.081870] Sorting kmer occurence table ... \r\n"
       ]
      },
      {
       "output_type": "stream",
       "stream": "stdout",
       "text": [
        "[1.139074] Sorting done.\r\n",
        "[1.139088] Computing acceleration table... \r\n"
       ]
      },
      {
       "output_type": "stream",
       "stream": "stdout",
       "text": [
        "[1.178992] Computing offsets... \r\n",
        "[1.180501] Ghost Threading through reads 0 / 66667\r\n",
        "[1.180762]  === Ghost-Threaded in 0.000610 s\r\n",
        "[1.180805] Threading through reads 0 / 66667\r\n"
       ]
      },
      {
       "output_type": "stream",
       "stream": "stdout",
       "text": [
        "[1.604822]  === Threaded in 0.424050 s\r\n",
        "[1.616922] Correcting graph with cutoff 0.200000\r\n",
        "[1.617010] Determining eligible starting points\r\n",
        "[1.617376] Done listing starting nodes\r\n",
        "[1.617381] Initializing todo lists\r\n",
        "[1.617425] Done with initilization\r\n",
        "[1.617428] Activating arc lookup table\r\n",
        "[1.617459] Done activating arc lookup table\r\n",
        "[1.622341] Concatenation...\r\n",
        "[1.622358] Renumbering nodes\r\n",
        "[1.622361] Initial node count 530\r\n",
        "[1.622372] Removed 29 null nodes\r\n",
        "[1.622374] Concatenation over!\r\n",
        "[1.622375] Clipping short tips off graph, drastic\r\n",
        "[1.622382] Concatenation...\r\n",
        "[1.622394] Renumbering nodes\r\n",
        "[1.622396] Initial node count 501\r\n",
        "[1.622400] Removed 0 null nodes\r\n",
        "[1.622401] Concatenation over!\r\n",
        "[1.622403] 501 nodes left\r\n",
        "[1.622533] Writing into graph file output_15_10/Graph...\r\n"
       ]
      },
      {
       "output_type": "stream",
       "stream": "stdout",
       "text": [
        "[1.672139] Removing contigs with coverage < 10.000000...\r\n",
        "[1.672174] Concatenation...\r\n",
        "[1.672188] Renumbering nodes\r\n",
        "[1.672190] Initial node count 501\r\n",
        "[1.672195] Removed 0 null nodes\r\n",
        "[1.672197] Concatenation over!\r\n",
        "[1.672207] Concatenation...\r\n",
        "[1.672219] Renumbering nodes\r\n",
        "[1.672220] Initial node count 501\r\n",
        "[1.672224] Removed 0 null nodes\r\n",
        "[1.672227] Concatenation over!\r\n",
        "[1.672229] Clipping short tips off graph, drastic\r\n",
        "[1.672236] Concatenation...\r\n",
        "[1.672247] Renumbering nodes\r\n",
        "[1.672248] Initial node count 501\r\n",
        "[1.672252] Removed 0 null nodes\r\n",
        "[1.672254] Concatenation over!\r\n",
        "[1.672255] 501 nodes left\r\n",
        "[1.672257] WARNING: NO EXPECTED COVERAGE PROVIDED\r\n",
        "[1.672258] Velvet will be unable to resolve any repeats\r\n",
        "[1.672260] See manual for instructions on how to set the expected coverage parameter\r\n",
        "[1.672262] Concatenation...\r\n",
        "[1.672273] Renumbering nodes\r\n",
        "[1.672275] Initial node count 501\r\n",
        "[1.672279] Removed 0 null nodes\r\n",
        "[1.672280] Concatenation over!\r\n",
        "[1.672284] Removing reference contigs with coverage < 10.000000...\r\n",
        "[1.672309] Concatenation...\r\n",
        "[1.672321] Renumbering nodes\r\n",
        "[1.672322] Initial node count 501\r\n",
        "[1.672326] Removed 0 null nodes\r\n",
        "[1.672328] Concatenation over!\r\n",
        "[1.672728] Writing contigs into output_15_10/contigs.fa...\r\n"
       ]
      },
      {
       "output_type": "stream",
       "stream": "stdout",
       "text": [
        "[1.706196] Writing into stats file output_15_10/stats.txt...\r\n",
        "[1.707496] Writing into graph file output_15_10/LastGraph...\r\n"
       ]
      },
      {
       "output_type": "stream",
       "stream": "stdout",
       "text": [
        "Final graph has 501 nodes and n50 of 1205, max 5361, total 199194, using 0/66667 reads\r\n"
       ]
      },
      {
       "output_type": "stream",
       "stream": "stdout",
       "text": [
        "output 21 -short EClen60cov20.fna\r\n"
       ]
      },
      {
       "output_type": "stream",
       "stream": "stdout",
       "text": [
        "[0.000000] Reading FastA file EClen60cov20.fna;\r\n"
       ]
      },
      {
       "output_type": "stream",
       "stream": "stdout",
       "text": [
        "[0.115782] 66667 sequences found\r\n",
        "[0.115803] Done\r\n"
       ]
      },
      {
       "output_type": "stream",
       "stream": "stdout",
       "text": [
        "[0.267996] Reading read set file output/Sequences;\r\n",
        "[0.288102] 66667 sequences found\r\n"
       ]
      },
      {
       "output_type": "stream",
       "stream": "stdout",
       "text": [
        "[0.358745] Done\r\n",
        "[0.358758] 66667 sequences in total.\r\n",
        "[0.358873] Writing into roadmap file output/Roadmaps...\r\n"
       ]
      },
      {
       "output_type": "stream",
       "stream": "stdout",
       "text": [
        "[0.422034] Inputting sequences...\r\n",
        "[0.422357] Inputting sequence 0 / 66667\r\n"
       ]
      },
      {
       "output_type": "stream",
       "stream": "stdout",
       "text": [
        "[0.768950]  === Sequences loaded in 0.346953 s\r\n",
        "[0.769232] Done inputting sequences\r\n",
        "[0.769238] Destroying splay table\r\n",
        "[0.776900] Splay table destroyed\r\n"
       ]
      },
      {
       "output_type": "stream",
       "stream": "stdout",
       "text": [
        "[0.000000] Reading roadmap file output_21_8/Roadmaps\r\n"
       ]
      },
      {
       "output_type": "stream",
       "stream": "stdout",
       "text": [
        "[0.126674] 66667 roadmaps read\r\n",
        "[0.126763] Creating insertion markers\r\n",
        "[0.133347] Ordering insertion markers\r\n",
        "[0.141009] Counting preNodes\r\n"
       ]
      },
      {
       "output_type": "stream",
       "stream": "stdout",
       "text": [
        "[0.148622] 97222 preNodes counted, creating them now\r\n"
       ]
      },
      {
       "output_type": "stream",
       "stream": "stdout",
       "text": [
        "[0.463412] Adjusting marker info...\r\n",
        "[0.471871] Connecting preNodes\r\n"
       ]
      },
      {
       "output_type": "stream",
       "stream": "stdout",
       "text": [
        "[0.738820] Cleaning up memory\r\n",
        "[0.740020] Done creating preGraph\r\n",
        "[0.740028] Concatenation...\r\n"
       ]
      },
      {
       "output_type": "stream",
       "stream": "stdout",
       "text": [
        "[0.770987] Renumbering preNodes\r\n",
        "[0.771004] Initial preNode count 97222\r\n",
        "[0.771836] Destroyed 97173 preNodes\r\n",
        "[0.771841] Concatenation over!\r\n",
        "[0.771844] Clipping short tips off preGraph\r\n",
        "[0.771848] Concatenation...\r\n",
        "[0.771854] Renumbering preNodes\r\n",
        "[0.771855] Initial preNode count 49\r\n",
        "[0.771858] Destroyed 0 preNodes\r\n",
        "[0.771859] Concatenation over!\r\n",
        "[0.771862] 0 tips cut off\r\n",
        "[0.771863] 49 nodes left\r\n",
        "[0.772329] Writing into pregraph file output_21_8/PreGraph...\r\n",
        "[0.798666] Reading read set file output_21_8/Sequences;\r\n"
       ]
      },
      {
       "output_type": "stream",
       "stream": "stdout",
       "text": [
        "[0.818913] 66667 sequences found\r\n"
       ]
      },
      {
       "output_type": "stream",
       "stream": "stdout",
       "text": [
        "[0.896280] Done\r\n"
       ]
      },
      {
       "output_type": "stream",
       "stream": "stdout",
       "text": [
        "[0.973580] Reading pre-graph file output_21_8/PreGraph\r\n",
        "[0.973683] Graph has 49 nodes and 66667 sequences\r\n",
        "[0.989934] Scanning pre-graph file output_21_8/PreGraph for k-mers\r\n",
        "[1.000131] 199762 kmers found\r\n"
       ]
      },
      {
       "output_type": "stream",
       "stream": "stdout",
       "text": [
        "[1.025252] Sorting kmer occurence table ... \r\n"
       ]
      },
      {
       "output_type": "stream",
       "stream": "stdout",
       "text": [
        "[1.083454] Sorting done.\r\n",
        "[1.083473] Computing acceleration table... \r\n"
       ]
      },
      {
       "output_type": "stream",
       "stream": "stdout",
       "text": [
        "[1.123709] Computing offsets... \r\n",
        "[1.125182] Ghost Threading through reads 0 / 66667\r\n",
        "[1.125416]  === Ghost-Threaded in 0.000565 s\r\n",
        "[1.125469] Threading through reads 0 / 66667\r\n"
       ]
      },
      {
       "output_type": "stream",
       "stream": "stdout",
       "text": [
        "[3.655978]  === Threaded in 2.530551 s\r\n"
       ]
      },
      {
       "output_type": "stream",
       "stream": "stdout",
       "text": [
        "[3.671064] Correcting graph with cutoff 0.200000\r\n",
        "[3.671102] Determining eligible starting points\r\n",
        "[3.671230] Done listing starting nodes\r\n",
        "[3.671234] Initializing todo lists\r\n",
        "[3.671245] Done with initilization\r\n",
        "[3.671247] Activating arc lookup table\r\n",
        "[3.671255] Done activating arc lookup table\r\n",
        "[3.671719] Concatenation...\r\n",
        "[3.671727] Renumbering nodes\r\n",
        "[3.671729] Initial node count 49\r\n",
        "[3.671732] Removed 3 null nodes\r\n",
        "[3.671735] Concatenation over!\r\n",
        "[3.671736] Clipping short tips off graph, drastic\r\n",
        "[3.671739] Concatenation...\r\n",
        "[3.671742] Renumbering nodes\r\n",
        "[3.671743] Initial node count 46\r\n",
        "[3.671746] Removed 0 null nodes\r\n",
        "[3.671748] Concatenation over!\r\n",
        "[3.671749] 46 nodes left\r\n",
        "[3.672518] Writing into graph file output_21_8/Graph...\r\n"
       ]
      },
      {
       "output_type": "stream",
       "stream": "stdout",
       "text": [
        "[3.723419] Removing contigs with coverage < 8.000000...\r\n",
        "[3.723439] Concatenation...\r\n",
        "[3.723443] Renumbering nodes\r\n",
        "[3.723445] Initial node count 46\r\n",
        "[3.723448] Removed 0 null nodes\r\n",
        "[3.723450] Concatenation over!\r\n",
        "[3.723453] Concatenation...\r\n",
        "[3.723455] Renumbering nodes\r\n",
        "[3.723457] Initial node count 46\r\n",
        "[3.723459] Removed 0 null nodes\r\n",
        "[3.723461] Concatenation over!\r\n",
        "[3.723462] Clipping short tips off graph, drastic\r\n",
        "[3.723465] Concatenation...\r\n",
        "[3.723467] Renumbering nodes\r\n",
        "[3.723469] Initial node count 46\r\n",
        "[3.723471] Removed 0 null nodes\r\n",
        "[3.723472] Concatenation over!\r\n",
        "[3.723474] 46 nodes left\r\n",
        "[3.723476] WARNING: NO EXPECTED COVERAGE PROVIDED\r\n",
        "[3.723477] Velvet will be unable to resolve any repeats\r\n",
        "[3.723479] See manual for instructions on how to set the expected coverage parameter\r\n",
        "[3.723481] Concatenation...\r\n",
        "[3.723483] Renumbering nodes\r\n",
        "[3.723485] Initial node count 46\r\n",
        "[3.723487] Removed 0 null nodes\r\n",
        "[3.723488] Concatenation over!\r\n",
        "[3.723492] Removing reference contigs with coverage < 8.000000...\r\n",
        "[3.723496] Concatenation...\r\n",
        "[3.723499] Renumbering nodes\r\n",
        "[3.723500] Initial node count 46\r\n",
        "[3.723503] Removed 0 null nodes\r\n",
        "[3.723504] Concatenation over!\r\n",
        "[3.724053] Writing contigs into output_21_8/contigs.fa...\r\n",
        "[3.757036] Writing into stats file output_21_8/stats.txt...\r\n",
        "[3.757241] Writing into graph file output_21_8/LastGraph...\r\n"
       ]
      },
      {
       "output_type": "stream",
       "stream": "stdout",
       "text": [
        "Final graph has 46 nodes and n50 of 26408, max 39275, total 199741, using 0/66667 reads\r\n"
       ]
      },
      {
       "output_type": "stream",
       "stream": "stdout",
       "text": [
        "[0.000001] Reading roadmap file output_21_10/Roadmaps\r\n"
       ]
      },
      {
       "output_type": "stream",
       "stream": "stdout",
       "text": [
        "[0.126965] 66667 roadmaps read\r\n",
        "[0.127061] Creating insertion markers\r\n",
        "[0.133854] Ordering insertion markers\r\n",
        "[0.139329] Counting preNodes\r\n",
        "[0.148249] 97222 preNodes counted, creating them now\r\n"
       ]
      },
      {
       "output_type": "stream",
       "stream": "stdout",
       "text": [
        "[0.470589] Adjusting marker info...\r\n",
        "[0.477650] Connecting preNodes\r\n"
       ]
      },
      {
       "output_type": "stream",
       "stream": "stdout",
       "text": [
        "[0.809060] Cleaning up memory\r\n",
        "[0.810384] Done creating preGraph\r\n",
        "[0.810391] Concatenation...\r\n"
       ]
      },
      {
       "output_type": "stream",
       "stream": "stdout",
       "text": [
        "[0.844800] Renumbering preNodes\r\n",
        "[0.844819] Initial preNode count 97222\r\n",
        "[0.845709] Destroyed 97173 preNodes\r\n",
        "[0.845715] Concatenation over!\r\n",
        "[0.845718] Clipping short tips off preGraph\r\n",
        "[0.845721] Concatenation...\r\n",
        "[0.845728] Renumbering preNodes\r\n",
        "[0.845730] Initial preNode count 49\r\n",
        "[0.845732] Destroyed 0 preNodes\r\n",
        "[0.845734] Concatenation over!\r\n",
        "[0.845737] 0 tips cut off\r\n",
        "[0.845739] 49 nodes left\r\n",
        "[0.845847] Writing into pregraph file output_21_10/PreGraph...\r\n"
       ]
      },
      {
       "output_type": "stream",
       "stream": "stdout",
       "text": [
        "[0.876924] Reading read set file output_21_10/Sequences;\r\n",
        "[0.897869] 66667 sequences found\r\n"
       ]
      },
      {
       "output_type": "stream",
       "stream": "stdout",
       "text": [
        "[0.984357] Done\r\n"
       ]
      },
      {
       "output_type": "stream",
       "stream": "stdout",
       "text": [
        "[1.054382] Reading pre-graph file output_21_10/PreGraph\r\n",
        "[1.054415] Graph has 49 nodes and 66667 sequences\r\n"
       ]
      },
      {
       "output_type": "stream",
       "stream": "stdout",
       "text": [
        "[1.075161] Scanning pre-graph file output_21_10/PreGraph for k-mers\r\n",
        "[1.086675] 199762 kmers found\r\n",
        "[1.113843] Sorting kmer occurence table ... \r\n"
       ]
      },
      {
       "output_type": "stream",
       "stream": "stdout",
       "text": [
        "[1.175613] Sorting done.\r\n",
        "[1.175633] Computing acceleration table... \r\n",
        "[1.214941] Computing offsets... \r\n",
        "[1.216554] Ghost Threading through reads 0 / 66667\r\n",
        "[1.216839]  === Ghost-Threaded in 0.000749 s\r\n",
        "[1.217003] Threading through reads 0 / 66667\r\n"
       ]
      },
      {
       "output_type": "stream",
       "stream": "stdout",
       "text": [
        "[4.356194]  === Threaded in 3.139345 s\r\n",
        "[4.369364] Correcting graph with cutoff 0.200000\r\n",
        "[4.369429] Determining eligible starting points\r\n",
        "[4.369538] Done listing starting nodes\r\n",
        "[4.369542] Initializing todo lists\r\n",
        "[4.369557] Done with initilization\r\n",
        "[4.369559] Activating arc lookup table\r\n",
        "[4.369565] Done activating arc lookup table\r\n",
        "[4.370001] Concatenation...\r\n",
        "[4.370009] Renumbering nodes\r\n",
        "[4.370011] Initial node count 49\r\n",
        "[4.370014] Removed 3 null nodes\r\n",
        "[4.370017] Concatenation over!\r\n",
        "[4.370019] Clipping short tips off graph, drastic\r\n",
        "[4.370021] Concatenation...\r\n",
        "[4.370024] Renumbering nodes\r\n",
        "[4.370026] Initial node count 46\r\n",
        "[4.370028] Removed 0 null nodes\r\n",
        "[4.370030] Concatenation over!\r\n",
        "[4.370031] 46 nodes left\r\n",
        "[4.370177] Writing into graph file output_21_10/Graph...\r\n"
       ]
      },
      {
       "output_type": "stream",
       "stream": "stdout",
       "text": [
        "[4.420861] Removing contigs with coverage < 10.000000...\r\n",
        "[4.420893] Concatenation...\r\n",
        "[4.420897] Renumbering nodes\r\n",
        "[4.420899] Initial node count 46\r\n",
        "[4.420903] Removed 1 null nodes\r\n",
        "[4.420905] Concatenation over!\r\n",
        "[4.420907] Concatenation...\r\n",
        "[4.420910] Renumbering nodes\r\n",
        "[4.420911] Initial node count 45\r\n",
        "[4.420913] Removed 0 null nodes\r\n",
        "[4.420915] Concatenation over!\r\n",
        "[4.420917] Clipping short tips off graph, drastic\r\n",
        "[4.420919] Concatenation...\r\n",
        "[4.420922] Renumbering nodes\r\n",
        "[4.420923] Initial node count 45\r\n",
        "[4.420925] Removed 0 null nodes\r\n",
        "[4.420927] Concatenation over!\r\n",
        "[4.420928] 45 nodes left\r\n",
        "[4.420930] WARNING: NO EXPECTED COVERAGE PROVIDED\r\n",
        "[4.420932] Velvet will be unable to resolve any repeats\r\n",
        "[4.420933] See manual for instructions on how to set the expected coverage parameter\r\n",
        "[4.420935] Concatenation...\r\n",
        "[4.420938] Renumbering nodes\r\n",
        "[4.420939] Initial node count 45\r\n",
        "[4.420941] Removed 0 null nodes\r\n",
        "[4.420943] Concatenation over!\r\n",
        "[4.420946] Removing reference contigs with coverage < 10.000000...\r\n",
        "[4.420951] Concatenation...\r\n",
        "[4.420953] Renumbering nodes\r\n",
        "[4.420955] Initial node count 45\r\n",
        "[4.420957] Removed 0 null nodes\r\n",
        "[4.420958] Concatenation over!\r\n",
        "[4.421380] Writing contigs into output_21_10/contigs.fa...\r\n"
       ]
      },
      {
       "output_type": "stream",
       "stream": "stdout",
       "text": [
        "[4.457923] Writing into stats file output_21_10/stats.txt...\r\n",
        "[4.458134] Writing into graph file output_21_10/LastGraph...\r\n"
       ]
      },
      {
       "output_type": "stream",
       "stream": "stdout",
       "text": [
        "Final graph has 45 nodes and n50 of 26408, max 39275, total 199691, using 0/66667 reads\r\n"
       ]
      }
     ],
     "prompt_number": 37
    },
    {
     "cell_type": "code",
     "collapsed": true,
     "input": [
      "\"\"\"\n",
      "Collect Data files into dataframe with the following columns\n",
      "k cvCut n50 totalLgth contigs_ls_2 mean max min\n",
      "\"\"\"\n",
      "def collect(f):\n",
      "    \"\"\"\n",
      "    recieve a file path, returns a row of the required information.\n",
      "    \"\"\"\n",
      "    stats = pd.read_table('/'.join([f,\"stats.txt\"]))\n",
      "    sumLgth = (stats['lgth'] + (conf['k']-1)).sum()\n",
      "    minLgth = (stats['lgth'] + (conf['k']-1)).min()\n",
      "    maxLgth = (stats['lgth'] + (conf['k']-1)).max()\n",
      "    meanLgth= (stats['lgth'] + (conf['k']-1)).mean()\n",
      "    medianLgth=(stats['lgth'] + (conf['k']-1)).median()\n",
      "    [sumLgth,minLgth,maxLgth,meanLgth,medianLgth]\n",
      "    \n",
      "    "
     ],
     "language": "python",
     "metadata": {},
     "outputs": [
      {
       "output_type": "display_data",
       "png": "[encoded data removed]"
      },
      {
       "output_type": "display_data",
       "png": "[encoded data removed]"
      },
      {
       "output_type": "display_data",
       "png": "[encoded data removed]"
      },
      {
       "output_type": "display_data",
       "png": "[encoded data removed]"
      }
     ],
     "prompt_number": 62
    }
   ],
   "metadata": {}
  }
 ]
}
{
 "metadata": {
  "name": "Experiment"
 },
 "nbformat": 3,
 "nbformat_minor": 0,
 "worksheets": [
  {
   "cells": [
    {
     "cell_type": "code",
     "collapsed": false,
     "input": [
      "from pandas import DataFrame\n",
      "import pandas as pd"
     ],
     "language": "python",
     "metadata": {},
     "outputs": []
    },
    {
     "cell_type": "markdown",
     "metadata": {},
     "source": [
      "#Velvet Experiment Sheet"
     ]
    },
    {
     "cell_type": "code",
     "collapsed": false,
     "input": [
      "###\n",
      "# set up experiment parameters\n",
      "# kmers : kmer length\n",
      "# cvCut : coverage threshold per contig \n",
      "#\n",
      "# refer to vlevlet manual for more details. \n",
      "###\n",
      "\n",
      "class Config: pass\n",
      "cf = Config()\n",
      "cf.kmers = [15,21,27,31] \n",
      "cf.cvCuts  = [5,10,15]   \n",
      "cf.expCov = map(lambda(x): x*2,cf.cvCuts)\n",
      "cf.output = \"data\"\n",
      "cf.seq = \"EClen60cov20.fna\"\n",
      "\n",
      "def mkname(k,cvCut): return '_'.join([cf.output +'/',str(k),str(cvCut)])\n"
     ],
     "language": "python",
     "metadata": {},
     "outputs": []
    },
    {
     "cell_type": "code",
     "collapsed": false,
     "input": [
      "def init(conf):\n",
      "    return DataFrame([(\n",
      "                       kmer,\n",
      "                       cvCut,\n",
      "                       mkname(kmer,cvCut)\n",
      "                       ) for kmer in conf.kmers for cvCut in conf.cvCuts],\n",
      "                       columns=['kmer','cvCut','dirname'])\n",
      "\n",
      "exp = init(cf)"
     ],
     "language": "python",
     "metadata": {},
     "outputs": []
    },
    {
     "cell_type": "code",
     "collapsed": false,
     "input": [
      "# clean\n",
      "!rm -rf {cf.output}\n",
      "!mkdir {cf.output}"
     ],
     "language": "python",
     "metadata": {},
     "outputs": []
    },
    {
     "cell_type": "code",
     "collapsed": true,
     "input": [
      "\"\"\"\n",
      "Run the main rotuin to generate data files\n",
      "this include runing velvet binaries (vleveth and vlevetg) \n",
      "for conf[k] x conf[cvCut] times.\n",
      "\"\"\"\n",
      "for k in exp.kmer: \n",
      "    !velveth temp {str(k)} -short {cf.seq};\n",
      "    for cvCut in exp.cvCut:\n",
      "        f = mkname(k,cvCut)\n",
      "        !cp -R temp {f}\n",
      "        !velvetg {f} -cov_cutoff {str(cvCut)};\n",
      "    !rm -rf temp"
     ],
     "language": "python",
     "metadata": {},
     "outputs": []
    },
    {
     "cell_type": "code",
     "collapsed": true,
     "input": [
      "\"\"\"\n",
      "Collect data from files into dataframe has the following columns\n",
      "k cvCut n50 totalLgth contigs_ls_2 mean max min\n",
      "\"\"\"\n",
      "\n",
      "def collect(info):\n",
      "    \"\"\"\n",
      "    recieve a file path, returns a row of the required information.\n",
      "    \"\"\"\n",
      "    stats = pd.read_table('/'.join([info['dirname'],\"stats.txt\"]))\n",
      "    lgth = (stats['lgth'].order(ascending=False) + (info['kmer']-1))\n",
      "    return (info['kmer'],\n",
      "            info['cvCut'],\n",
      "            lgth.sum(),\n",
      "            lgth.min(),\n",
      "            lgth.max(),\n",
      "            lgth.mean(),\n",
      "            lgth.median(),\n",
      "            lgth[lgth.cumsum() >= lgth.sum()/2].irow(0)) # n50\n",
      "\n",
      "l = [collect(exp.ix[info]) for info in exp.index]\n",
      "d = DataFrame(l,columns=['kmer','cvCut','sum','min','max','mean','median','n50'])\n",
      "d\n"
     ],
     "language": "python",
     "metadata": {},
     "outputs": []
    }
   ],
   "metadata": {}
  }
 ]
}